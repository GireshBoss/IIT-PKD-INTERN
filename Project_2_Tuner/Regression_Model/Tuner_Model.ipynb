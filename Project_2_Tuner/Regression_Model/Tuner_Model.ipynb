{
  "nbformat": 4,
  "nbformat_minor": 0,
  "metadata": {
    "colab": {
      "provenance": []
    },
    "kernelspec": {
      "name": "python3",
      "display_name": "Python 3"
    },
    "language_info": {
      "name": "python"
    }
  },
  "cells": [
    {
      "cell_type": "code",
      "source": [
        "import pandas as pd\n",
        "import numpy as np\n",
        "from sklearn.model_selection import train_test_split\n",
        "from sklearn.ensemble import RandomForestRegressor\n",
        "from sklearn.metrics import mean_squared_error, r2_score\n",
        "\n",
        "# Load data\n",
        "df = pd.read_csv('VSWR_2096.csv')\n",
        "\n",
        "# Define inputs and outputs\n",
        "X = df[['VSWR', 'F']]\n",
        "y = df[['D1', 'D2', 'L']]\n",
        "\n",
        "# Split dataset\n",
        "X_train, X_test, y_train, y_test = train_test_split(X, y, test_size=0.2, random_state=42)\n",
        "\n",
        "# Train Random Forest\n",
        "rf = RandomForestRegressor(random_state=42)\n",
        "rf.fit(X_train, y_train)\n",
        "\n",
        "# Predict and evaluate\n",
        "y_pred_rf = rf.predict(X_test)\n",
        "mse_rf = mean_squared_error(y_test, y_pred_rf, multioutput='raw_values')\n",
        "r2_rf = r2_score(y_test, y_pred_rf, multioutput='raw_values')\n",
        "\n",
        "# Print evaluation results\n",
        "print(\"Random Forest MSE (D1, D2, L):\", mse_rf)\n",
        "print(\"Random Forest R² (D1, D2, L):\", r2_rf)\n",
        "\n",
        "\n"
      ],
      "metadata": {
        "colab": {
          "base_uri": "https://localhost:8080/"
        },
        "id": "OrSYXpMJTwad",
        "outputId": "3ca4ffd1-1747-4dae-8daf-4d45a2a962d8"
      },
      "execution_count": null,
      "outputs": [
        {
          "output_type": "stream",
          "name": "stdout",
          "text": [
            "Random Forest MSE (D1, D2, L): [4.43185981e-03 2.48385418e-01 1.08299817e+03]\n",
            "Random Forest R² (D1, D2, L): [ 0.77317674  0.31033113 -0.29867562]\n"
          ]
        }
      ]
    },
    {
      "cell_type": "code",
      "source": [
        "# ---- Custom Input Prediction ----\n",
        "# Example: replace these values with your own input\n",
        "custom_vswr = 1\n",
        "custom_freq = 1.8\n",
        "\n",
        "custom_input = pd.DataFrame([{'VSWR': custom_vswr, 'F': custom_freq}])\n",
        "custom_prediction = rf.predict(custom_input)\n",
        "\n",
        "print(\"\\nCustom Input Prediction:\")\n",
        "print(f\"Input -> VSWR: {custom_vswr}, Frequency: {custom_freq}\")\n",
        "print(\"Predicted -> D1: {:.2f}, D2: {:.2f}, L: {:.2f}\".format(*custom_prediction[0]))"
      ],
      "metadata": {
        "colab": {
          "base_uri": "https://localhost:8080/"
        },
        "id": "k6-IUjdoTzlK",
        "outputId": "cc5d65f7-757a-4eae-b125-32088d5b86a4"
      },
      "execution_count": null,
      "outputs": [
        {
          "output_type": "stream",
          "name": "stdout",
          "text": [
            "\n",
            "Custom Input Prediction:\n",
            "Input -> VSWR: 1, Frequency: 1.8\n",
            "Predicted -> D1: -31.56, D2: -31.08, L: 24.15\n"
          ]
        }
      ]
    }
  ]
}